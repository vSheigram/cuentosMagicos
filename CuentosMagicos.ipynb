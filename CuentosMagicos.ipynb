{
  "nbformat": 4,
  "nbformat_minor": 0,
  "metadata": {
    "colab": {
      "provenance": []
    },
    "kernelspec": {
      "name": "python3",
      "display_name": "Python 3"
    },
    "language_info": {
      "name": "python"
    }
  },
  "cells": [
    {
      "cell_type": "markdown",
      "source": [
        "# Generación de Cuentos Infantiles con IA\n",
        "\n",
        "Este notebook permite generar cuentos infantiles personalizados con texto e imágenes utilizando las API de OpenAI."
      ],
      "metadata": {
        "id": "C6ZYS7LuCO-_"
      }
    },
    {
      "cell_type": "code",
      "source": [
        "\n",
        "!pip install openai==0.28\n",
        "import openai\n",
        "import os\n",
        "import requests\n",
        "from io import BytesIO\n",
        "from PIL import Image\n",
        "from IPython.display import display\n",
        "\n",
        "# Configurando la API KEY desde variables de entorno\n",
        "os.environ[\"OPENAI_API_KEY\"] = \"PONE_TU_API_KEY\"\n",
        "openai.api_key = os.getenv(\"OPENAI_API_KEY\")\n",
        "if not openai.api_key:\n",
        "    raise ValueError(\"Por favor, configure su API Key en la variable de entorno OPENAI_API_KEY.\")"
      ],
      "metadata": {
        "id": "yB9hL4IGCS-Z"
      },
      "execution_count": null,
      "outputs": []
    },
    {
      "cell_type": "code",
      "source": [
        "\n",
        "def generar_cuento_e_imagen(prompt):\n",
        "    try:\n",
        "        # Generar el cuento\n",
        "        cliente = openai.ChatCompletion.create(\n",
        "            model=\"gpt-4\",\n",
        "            messages=[{\"role\": \"user\", \"content\": prompt}],\n",
        "        )\n",
        "        cuento = cliente.choices[0].message[\"content\"]\n",
        "\n",
        "        # Generar la imagen basada en el mismo prompt\n",
        "        response = openai.Image.create(\n",
        "            model=\"dall-e-3\",\n",
        "            prompt=prompt,\n",
        "            n=1,\n",
        "            size=\"1024x1024\",\n",
        "        )\n",
        "        url_imagen = response['data'][0]['url']\n",
        "\n",
        "        return cuento, url_imagen\n",
        "    except openai.error.OpenAIError as e:\n",
        "        return f\"Error al generar el contenido: {e}\", None\n"
      ],
      "metadata": {
        "id": "N5ClSX8wCYLb"
      },
      "execution_count": null,
      "outputs": []
    },
    {
      "cell_type": "code",
      "source": [
        "\n",
        "# Entrada del usuario\n",
        "prompt = input(\"Escribe tu prompt para generar el cuento e imágenes: \")\n",
        "\n",
        "cuento, url_imagen = generar_cuento_e_imagen(prompt)\n",
        "\n",
        "if \"Error\" not in cuento:\n",
        "    # Mostrar el cuento\n",
        "    print(\"Cuento generado:\")\n",
        "    print(cuento)\n",
        "\n",
        "    if url_imagen:\n",
        "        # Descargar y mostrar la imagen\n",
        "        imagen = Image.open(BytesIO(requests.get(url_imagen).content))\n",
        "        display(imagen)\n",
        "        # Guardar la imagen con un nombre único\n",
        "        from datetime import datetime\n",
        "        filename = f\"imagen_{datetime.now().strftime('%Y%m%d_%H%M%S')}.png\"\n",
        "        imagen.save(filename)\n",
        "        print(f\"Imagen guardada como {filename}.\")\n",
        "else:\n",
        "    print(cuento)\n"
      ],
      "metadata": {
        "id": "aU1-65RsCenp"
      },
      "execution_count": null,
      "outputs": []
    }
  ]
}